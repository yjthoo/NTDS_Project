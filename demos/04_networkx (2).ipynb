{
 "cells": [
  {
   "cell_type": "markdown",
   "metadata": {},
   "source": [
    "# Lab Session 3: Network models with NetwokX\n",
    "Hermina Petric Maretic, *PhD student*, [EPFL](http://epfl.ch) [LTS4](http://lts4.epfl.ch)"
   ]
  },
  {
   "cell_type": "markdown",
   "metadata": {},
   "source": [
    "In this session we will get introduced to NetworkX, explore some of the most common network models, look at their basic properties and compare them."
   ]
  },
  {
   "cell_type": "markdown",
   "metadata": {},
   "source": [
    "## Creating graphs using NetworkX\n",
    "There are many libraries that deal with creation and manipulation of graph data. We will use NetworkX to create basic network models, as they are already implemented in the library. For a full documentation, consult https://networkx.github.io/documentation/stable/tutorial.html"
   ]
  },
  {
   "cell_type": "code",
   "execution_count": null,
   "metadata": {},
   "outputs": [],
   "source": [
    "%matplotlib inline\n",
    "\n",
    "import random\n",
    "import matplotlib.pyplot as plt\n",
    "import networkx as nx\n",
    "import numpy as np\n",
    "import warnings\n",
    "warnings.filterwarnings('ignore')"
   ]
  },
  {
   "cell_type": "markdown",
   "metadata": {},
   "source": [
    "Create an Erdos Renyi graph with a 100 vertices, and a probability of connecting each pair of vertices equal to 0.15."
   ]
  },
  {
   "cell_type": "code",
   "execution_count": null,
   "metadata": {},
   "outputs": [],
   "source": [
    "er=nx.erdos_renyi_graph(100,0.15)"
   ]
  },
  {
   "cell_type": "markdown",
   "metadata": {},
   "source": [
    "We can also see the adjacency matrix of the graph, and manipulate the graph as before."
   ]
  },
  {
   "cell_type": "code",
   "execution_count": null,
   "metadata": {},
   "outputs": [],
   "source": [
    "er_adj = nx.adjacency_matrix(er,range(100))\n",
    "er_adj = er_adj.todense()"
   ]
  },
  {
   "cell_type": "code",
   "execution_count": null,
   "metadata": {},
   "outputs": [],
   "source": [
    "er_adj"
   ]
  },
  {
   "cell_type": "markdown",
   "metadata": {},
   "source": [
    "Visualise the matrix:"
   ]
  },
  {
   "cell_type": "code",
   "execution_count": null,
   "metadata": {},
   "outputs": [],
   "source": [
    "plt.spy(er_adj)"
   ]
  },
  {
   "cell_type": "markdown",
   "metadata": {},
   "source": [
    "With NetworkX and Matplotlib we can also draw a graph."
   ]
  },
  {
   "cell_type": "code",
   "execution_count": null,
   "metadata": {},
   "outputs": [],
   "source": [
    "nx.draw(er)"
   ]
  },
  {
   "cell_type": "markdown",
   "metadata": {},
   "source": [
    "It's easy to add or remove edges, but also nodes. If we add an edge between nodes that don't yet exist, they will be automatically created."
   ]
  },
  {
   "cell_type": "code",
   "execution_count": null,
   "metadata": {},
   "outputs": [],
   "source": [
    "er.add_node(100)"
   ]
  },
  {
   "cell_type": "code",
   "execution_count": null,
   "metadata": {},
   "outputs": [],
   "source": [
    "er.nodes()"
   ]
  },
  {
   "cell_type": "markdown",
   "metadata": {},
   "source": [
    "Similarly, you can add and remove a collection of nodes or edges, and add and remove one node or edge:\n",
    "* Adding nodes with:\n",
    "    - **G.add_node** : One node at a time\n",
    "    - **G.add_nodes_from** : A container of nodes\n",
    "* Adding edges with:\n",
    "    - **G.add_edge**: One edge at a time\n",
    "    - **G.add_edges_from** : A container of edges\n",
    "    \n",
    "    \n",
    "* Removing nodes with:\n",
    "    - **G.remove_node** : One node at a time\n",
    "    - **G.remove_nodes_from** : A container of nodes\n",
    "* Removing edges with:\n",
    "    - **G.remove_edge**: One edge at a time\n",
    "    - **G.remove_edges_from** : A container of edges\n"
   ]
  },
  {
   "cell_type": "markdown",
   "metadata": {},
   "source": [
    "Add an edge between two non-existant vertices. Remove all nodes up to node 50. Draw the graph after each change."
   ]
  },
  {
   "cell_type": "code",
   "execution_count": null,
   "metadata": {},
   "outputs": [],
   "source": [
    "er.add_edge(101,102)\n",
    "nx.draw(er)"
   ]
  },
  {
   "cell_type": "code",
   "execution_count": null,
   "metadata": {},
   "outputs": [],
   "source": [
    "er.remove_nodes_from(range(50))\n",
    "nx.draw(er)\n",
    "er.nodes()"
   ]
  },
  {
   "cell_type": "markdown",
   "metadata": {},
   "source": [
    "Try creating some other known graph models. Create a Barabasi-Albert graph and a Watts-Strogatz graph. Plot them."
   ]
  },
  {
   "cell_type": "code",
   "execution_count": null,
   "metadata": {},
   "outputs": [],
   "source": [
    "ba=nx.barabasi_albert_graph(100,5)\n",
    "nx.draw(ba)"
   ]
  },
  {
   "cell_type": "code",
   "execution_count": null,
   "metadata": {},
   "outputs": [],
   "source": [
    "ws=nx.watts_strogatz_graph(100,4,0.001)\n",
    "nx.draw(ws)"
   ]
  },
  {
   "cell_type": "markdown",
   "metadata": {},
   "source": [
    "### Network properties with NetworkX"
   ]
  },
  {
   "cell_type": "markdown",
   "metadata": {},
   "source": [
    "**G.degree()** returns a dictionary of node degrees. If we specify a node, **G.degree()** will return the degree of that node."
   ]
  },
  {
   "cell_type": "markdown",
   "metadata": {},
   "source": [
    "Plot a histogram of node degrees. Compare degree distributions of our random networks. Try fitting a Poisson distribution. You can check the number of edges with **G.size()**."
   ]
  },
  {
   "cell_type": "markdown",
   "metadata": {},
   "source": [
    "Erdos-Renyi network:"
   ]
  },
  {
   "cell_type": "code",
   "execution_count": null,
   "metadata": {},
   "outputs": [],
   "source": [
    "er=nx.erdos_renyi_graph(100,0.15)"
   ]
  },
  {
   "cell_type": "code",
   "execution_count": null,
   "metadata": {},
   "outputs": [],
   "source": [
    "def poisson(mu,k):\n",
    "    return np.exp(-mu) * mu**k * (np.math.factorial(k)**-1)"
   ]
  },
  {
   "cell_type": "code",
   "execution_count": null,
   "metadata": {},
   "outputs": [],
   "source": [
    "er.size()"
   ]
  },
  {
   "cell_type": "code",
   "execution_count": null,
   "metadata": {},
   "outputs": [],
   "source": [
    "d = er.degree().values()\n",
    "plt.hist(list(d), bins = 20);\n",
    "mu = 2*er.size()/100;\n",
    "k = np.linspace(1,25,25);\n",
    "deg = [100*poisson(mu,i) for i in k]\n",
    "plt.plot(k, deg);\n",
    "plt.ylabel(\"Number of vertices\")\n",
    "plt.xlabel(\"Degree\")\n",
    "plt.title(\"Erdos Renyi degree distribution\")\n",
    "plt.show()"
   ]
  },
  {
   "cell_type": "markdown",
   "metadata": {},
   "source": [
    "Barabasi-Albert network:"
   ]
  },
  {
   "cell_type": "code",
   "execution_count": null,
   "metadata": {},
   "outputs": [],
   "source": [
    "ba.size()"
   ]
  },
  {
   "cell_type": "code",
   "execution_count": null,
   "metadata": {},
   "outputs": [],
   "source": [
    "d = ba.degree().values()\n",
    "plt.hist(list(d), bins = 20);\n",
    "mu = 2*ba.size()/100;\n",
    "k = np.linspace(1,45,45);\n",
    "deg = [100*poisson(mu,i) for i in k]\n",
    "plt.plot(k, deg);\n",
    "plt.ylabel(\"Number of vertices\")\n",
    "plt.xlabel(\"Degree\")\n",
    "plt.title(\"Barabasi-Albert degree distribution\")\n",
    "plt.show()"
   ]
  },
  {
   "cell_type": "markdown",
   "metadata": {},
   "source": [
    "Watts-Strogatz graph:"
   ]
  },
  {
   "cell_type": "code",
   "execution_count": null,
   "metadata": {},
   "outputs": [],
   "source": [
    "d = ws.degree().values()\n",
    "plt.hist(list(d), bins = 20);"
   ]
  },
  {
   "cell_type": "markdown",
   "metadata": {},
   "source": [
    "Why does the distribution look like this? Create a WS model with the same number of edges, but a more \"dynamic\" distribution."
   ]
  },
  {
   "cell_type": "code",
   "execution_count": null,
   "metadata": {},
   "outputs": [],
   "source": [
    "ws_new = nx.watts_strogatz_graph(100,4,0.8)\n",
    "d = ws_new.degree().values()\n",
    "plt.hist(list(d), bins = 20);"
   ]
  },
  {
   "cell_type": "code",
   "execution_count": null,
   "metadata": {},
   "outputs": [],
   "source": [
    "print(ws.size())\n",
    "print(ws_new.size())"
   ]
  },
  {
   "cell_type": "code",
   "execution_count": null,
   "metadata": {},
   "outputs": [],
   "source": [
    "nx.draw(ws_new)"
   ]
  },
  {
   "cell_type": "markdown",
   "metadata": {},
   "source": [
    "### Random manifold-based network (part of the assignment)"
   ]
  },
  {
   "cell_type": "markdown",
   "metadata": {},
   "source": [
    "We can also create a graph on our own. This sort of manifold-based graph is often used in practice when we need a graph representation of data laying on a manifold. Generate 100 two-dimensional data points, both values between 0 and 1. They should come from a uniform random distribution. These will be the coordinates of your nodes. Connect the nodes if their Euclidian distance is smaller than the threshold 0.2. In that case, the weight of the edge should be equal to $w(i,j) = \\exp \\left(-{\\frac {dist(i,j)^{2}}{2\\theta ^{2}}}\\right)$. For this experiment, set $\\theta$ to 0.9. "
   ]
  },
  {
   "cell_type": "code",
   "execution_count": null,
   "metadata": {},
   "outputs": [],
   "source": [
    "def random_gaussian(nodes, theta, threshold):\n",
    "    #your code here\n",
    "    return adj"
   ]
  },
  {
   "cell_type": "code",
   "execution_count": null,
   "metadata": {},
   "outputs": [],
   "source": [
    "nodes = #your code here"
   ]
  },
  {
   "cell_type": "markdown",
   "metadata": {},
   "source": [
    "Plot the graph using NetworkX. \n",
    "* Hint: \n",
    "    - **nx.from_numpy_array(adj)** creates a graph object from an adjacency matrix (in numpy form)\n",
    "    - **nx.draw(G,pos)** will draw vertices at coordinates specified in pos. Variable pos is a dictionary assigning a pair of coordinates to each node."
   ]
  },
  {
   "cell_type": "code",
   "execution_count": null,
   "metadata": {},
   "outputs": [],
   "source": [
    "adj = random_gaussian(nodes, 0.9, 0.2)"
   ]
  },
  {
   "cell_type": "code",
   "execution_count": null,
   "metadata": {},
   "outputs": [],
   "source": [
    "plt.spy(adj)"
   ]
  },
  {
   "cell_type": "code",
   "execution_count": null,
   "metadata": {},
   "outputs": [],
   "source": [
    "#your code here"
   ]
  },
  {
   "cell_type": "markdown",
   "metadata": {},
   "source": [
    "Plot a degree distribution of this graph. Is it similar to something?"
   ]
  }
 ],
 "metadata": {},
 "nbformat": 4,
 "nbformat_minor": 2
}
